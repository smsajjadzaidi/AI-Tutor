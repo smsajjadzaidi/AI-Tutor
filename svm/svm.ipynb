{
 "cells": [
  {
   "cell_type": "code",
   "execution_count": 1,
   "metadata": {
    "collapsed": true,
    "ExecuteTime": {
     "end_time": "2024-09-29T13:18:27.579214Z",
     "start_time": "2024-09-29T13:18:27.441779Z"
    }
   },
   "outputs": [],
   "source": [
    "factual_questions = [\n",
    "    \"What is the capital of France?\",\n",
    "    \"Who was the first president of the United States?\",\n",
    "    \"How many continents are there?\",\n",
    "    \"What is the largest planet in our solar system?\",\n",
    "    \"What is the boiling point of water in Celsius?\",\n",
    "    \"Who wrote 'To Kill a Mockingbird'?\",\n",
    "    \"What is the currency of Japan?\",\n",
    "    \"What year did World War II end?\",\n",
    "    \"How many bones are in the human body?\",\n",
    "    \"What is the chemical symbol for gold?\",\n",
    "    \"Which country is the largest by land area?\",\n",
    "    \"What is the smallest prime number?\",\n",
    "    \"Who painted the Mona Lisa?\",\n",
    "    \"What is the highest mountain in the world?\",\n",
    "    \"In what year did the Titanic sink?\",\n",
    "    \"What is the fastest land animal?\",\n",
    "    \"Who discovered penicillin?\",\n",
    "    \"How many moons does Mars have?\",\n",
    "    \"What is the capital city of Canada?\",\n",
    "    \"Which planet is known as the Red Planet?\",\n",
    "    \"Who invented the telephone?\",\n",
    "    \"What is the hardest natural substance on Earth?\",\n",
    "    \"What is the square root of 64?\",\n",
    "    \"Which element has the atomic number 1?\",\n",
    "    \"What is the main ingredient in bread?\",\n",
    "    \"How many states are there in the USA?\",\n",
    "    \"What is the largest ocean on Earth?\",\n",
    "    \"Who directed the movie 'Jurassic Park'?\",\n",
    "    \"What is the largest desert in the world?\",\n",
    "    \"What is the tallest building in the world?\",\n",
    "    \"Who won the Nobel Prize for Physics in 1921?\",\n",
    "    \"What is the freezing point of water in Fahrenheit?\",\n",
    "    \"What is the capital city of Australia?\",\n",
    "    \"Which country has the most people?\",\n",
    "    \"What is the most widely spoken language in the world?\",\n",
    "    \"Who is the CEO of Tesla?\",\n",
    "    \"What is the currency of the United Kingdom?\",\n",
    "    \"Who is the author of the Harry Potter series?\",\n",
    "    \"What year did man first land on the moon?\",\n",
    "    \"What is the chemical symbol for sodium?\",\n",
    "    \"Which ocean is the Bermuda Triangle located in?\",\n",
    "    \"How many legs do spiders have?\",\n",
    "    \"What is the capital of Germany?\",\n",
    "    \"What is the speed of light?\",\n",
    "    \"Who was the first man to reach the South Pole?\",\n",
    "    \"How many planets are in the solar system?\",\n",
    "    \"What is the currency of China?\",\n",
    "    \"Who is the current president of the United States?\",\n",
    "    \"Which continent is the Sahara Desert located on?\",\n",
    "    \"How many hours are in a day?\",\n",
    "    \"What is the largest island in the world?\",\n",
    "    \"What is the main gas found in the air we breathe?\",\n",
    "    \"Who is the founder of Microsoft?\",\n",
    "    \"How many rings are there on the Olympic flag?\",\n",
    "    \"Which country hosted the 2016 Summer Olympics?\",\n",
    "    \"What is the smallest country in the world?\",\n",
    "    \"Which country has the highest population density?\",\n",
    "    \"Who was the first person to climb Mount Everest?\",\n",
    "    \"What is the longest river in the world?\",\n",
    "    \"How many time zones are there in the world?\",\n",
    "    \"What is the largest organ in the human body?\",\n",
    "    \"What is the highest-grossing movie of all time?\",\n",
    "    \"Which country is home to the kangaroo?\",\n",
    "    \"What is the capital of Italy?\",\n",
    "    \"Who invented the lightbulb?\",\n",
    "    \"What is the tallest tree species in the world?\",\n",
    "    \"What is the main ingredient in sushi?\",\n",
    "    \"What is the national flower of Japan?\",\n",
    "    \"What year did the Berlin Wall fall?\",\n",
    "    \"How many strings does a standard guitar have?\",\n",
    "    \"Who was the first woman to win a Nobel Prize?\",\n",
    "    \"Which country gifted the Statue of Liberty to the USA?\",\n",
    "    \"What is the national sport of Canada?\",\n",
    "    \"What is the capital of South Korea?\",\n",
    "    \"How many meters are in a kilometer?\",\n",
    "    \"Who composed the music for the opera 'The Magic Flute'?\",\n",
    "    \"What is the largest lake in the world?\",\n",
    "    \"What is the national bird of the United States?\",\n",
    "    \"What is the tallest mountain in North America?\",\n",
    "    \"Who was the first woman in space?\",\n",
    "    \"What is the largest coral reef system in the world?\",\n",
    "    \"Which is the smallest bone in the human body?\",\n",
    "    \"What is the most common blood type?\",\n",
    "    \"How many countries are members of the United Nations?\",\n",
    "    \"Which planet is closest to the sun?\",\n",
    "    \"Who invented the World Wide Web?\",\n",
    "    \"What is the highest waterfall in the world?\",\n",
    "    \"Who painted the ceiling of the Sistine Chapel?\",\n",
    "    \"How many Olympic Games have been held?\",\n",
    "    \"What is the oldest continuously inhabited city in the world?\",\n",
    "    \"What is the most abundant element in the universe?\",\n",
    "    \"Which country produces the most coffee?\",\n",
    "    \"What is the hottest planet in the solar system?\",\n",
    "    \"Which is the only mammal capable of true flight?\",\n",
    "    \"What is the currency of Switzerland?\",\n",
    "    \"Who is the author of 'Pride and Prejudice'?\",\n",
    "    \"What is the tallest animal in the world?\",\n",
    "    \"Who was the last Tsar of Russia?\"\n",
    "]\n"
   ]
  },
  {
   "cell_type": "code",
   "execution_count": 2,
   "outputs": [],
   "source": [
    "conceptual_questions = [\n",
    "    \"How does photosynthesis work?\",\n",
    "    \"Why do objects fall to the ground when dropped?\",\n",
    "    \"What is the theory of evolution?\",\n",
    "    \"How do vaccines protect against diseases?\",\n",
    "    \"Why does the Earth experience different seasons?\",\n",
    "    \"What is quantum mechanics?\",\n",
    "    \"How does the human brain process language?\",\n",
    "    \"Why do we need sleep?\",\n",
    "    \"What are the causes of global warming?\",\n",
    "    \"How does electricity flow in a circuit?\",\n",
    "    \"What is the concept of time in physics?\",\n",
    "    \"How do airplanes stay in the air?\",\n",
    "    \"What are the effects of gravity on space-time?\",\n",
    "    \"Why do humans dream?\",\n",
    "    \"How does the immune system fight infections?\",\n",
    "    \"What is the role of DNA in inheritance?\",\n",
    "    \"Why is the sky blue?\",\n",
    "    \"What is artificial intelligence and how does it work?\",\n",
    "    \"How do black holes form?\",\n",
    "    \"What is the significance of the theory of relativity?\",\n",
    "    \"How do ecosystems maintain balance?\",\n",
    "    \"What is the role of mitochondria in cells?\",\n",
    "    \"How does climate change affect biodiversity?\",\n",
    "    \"What are the principles of democracy?\",\n",
    "    \"How do computers process information?\",\n",
    "    \"What is the concept of karma in Hinduism?\",\n",
    "    \"How does the stock market influence the economy?\",\n",
    "    \"Why do we experience emotions?\",\n",
    "    \"What is the difference between renewable and non-renewable energy?\",\n",
    "    \"How do plants adapt to their environments?\",\n",
    "    \"What is the significance of the Big Bang Theory?\",\n",
    "    \"How does memory work in the brain?\",\n",
    "    \"What are the ethical implications of genetic engineering?\",\n",
    "    \"How does the internet transmit data?\",\n",
    "    \"What is the impact of deforestation on the environment?\",\n",
    "    \"How do viruses replicate in the body?\",\n",
    "    \"Why do certain animals hibernate?\",\n",
    "    \"What is the purpose of the United Nations?\",\n",
    "    \"How does the greenhouse effect contribute to climate change?\",\n",
    "    \"What is the role of enzymes in chemical reactions?\",\n",
    "    \"How does cultural diffusion impact societies?\",\n",
    "    \"What are the key factors in economic growth?\",\n",
    "    \"How do rainbows form?\",\n",
    "    \"What are the causes and effects of ocean currents?\",\n",
    "    \"What is the role of friction in motion?\",\n",
    "    \"How does the body regulate temperature?\",\n",
    "    \"What is the concept of infinity in mathematics?\",\n",
    "    \"How do renewable energy sources work?\",\n",
    "    \"Why do we experience tides?\",\n",
    "    \"What is the concept of free will?\",\n",
    "    \"How does globalization affect economies?\",\n",
    "    \"Why do humans form societies?\",\n",
    "    \"What is the process of natural selection?\",\n",
    "    \"How does artificial intelligence learn?\",\n",
    "    \"What is the difference between capitalism and socialism?\",\n",
    "    \"How do wind patterns influence weather?\",\n",
    "    \"What are the main causes of poverty?\",\n",
    "    \"How do plants convert sunlight into energy?\",\n",
    "    \"What is the role of the ozone layer?\",\n",
    "    \"How do different cultures celebrate holidays?\",\n",
    "    \"What is the significance of the Renaissance in history?\",\n",
    "    \"How do vaccines stimulate the immune system?\",\n",
    "    \"Why do certain materials conduct electricity?\",\n",
    "    \"What is the relationship between supply and demand?\",\n",
    "    \"How do stars generate energy?\",\n",
    "    \"What is the significance of the human genome project?\",\n",
    "    \"How do ecosystems recover from natural disasters?\",\n",
    "    \"Why do we have different blood types?\",\n",
    "    \"What is the concept of entropy in thermodynamics?\",\n",
    "    \"How do governments enforce laws?\",\n",
    "    \"What is the role of education in society?\",\n",
    "    \"How do magnets generate magnetic fields?\",\n",
    "    \"What is the importance of biodiversity?\",\n",
    "    \"How does blockchain technology work?\",\n",
    "    \"Why do people follow different religions?\",\n",
    "    \"What is the significance of philosophy in human history?\",\n",
    "    \"How do sound waves travel through air?\",\n",
    "    \"What is the impact of technology on communication?\",\n",
    "    \"How does evolution explain the diversity of life?\",\n",
    "    \"What are the main components of the water cycle?\",\n",
    "    \"How do tectonic plates cause earthquakes?\",\n",
    "    \"What is the relationship between ethics and law?\",\n",
    "    \"How does human activity contribute to climate change?\",\n",
    "    \"What are the principles of effective leadership?\",\n",
    "    \"How does the digestive system break down food?\",\n",
    "    \"Why do certain species become extinct?\",\n",
    "    \"What is the significance of space exploration?\",\n",
    "    \"How does solar power generate electricity?\",\n",
    "    \"What are the causes and effects of inflation?\",\n",
    "    \"How do different types of economies function?\",\n",
    "    \"Why do we have different languages?\",\n",
    "    ]"
   ],
   "metadata": {
    "collapsed": false,
    "ExecuteTime": {
     "end_time": "2024-09-29T13:18:29.055124Z",
     "start_time": "2024-09-29T13:18:28.985871Z"
    }
   }
  },
  {
   "cell_type": "code",
   "execution_count": 19,
   "outputs": [],
   "source": [
    "other_questions = [\n",
    "    \"What do you think is the best way to study for exams?\",\n",
    "    \"Can you explain that concept again in simpler terms?\",\n",
    "    \"How do I install Python on my computer?\",\n",
    "    \"What is your opinion on climate change?\",\n",
    "    \"Which is better, solar power or wind energy?\",\n",
    "    \"Do you prefer working in teams or alone?\",\n",
    "    \"Can you explain what you mean by renewable energy?\",\n",
    "    \"How can I improve my time management skills?\",\n",
    "    \"Which do you think is more important, education or experience?\",\n",
    "    \"What is the best way to write a research paper?\",\n",
    "    \"How do I create a resume?\",\n",
    "    \"Do you agree with the current education system?\",\n",
    "    \"How can I become more productive?\",\n",
    "    \"What is the best strategy for learning a new language?\",\n",
    "    \"Can you explain the difference between qualitative and quantitative research?\",\n",
    "    \"How do I solve a Rubik's Cube?\",\n",
    "    \"What is your favorite book and why?\",\n",
    "    \"Which programming language is the easiest to learn?\",\n",
    "    \"How can I improve my public speaking skills?\",\n",
    "    \"What are the best ways to prepare for a job interview?\",\n",
    "    \"Which is better for learning, online courses or traditional classroom education?\",\n",
    "    \"Can you explain how the stock market works in simple terms?\",\n",
    "    \"What is the best way to organize my tasks?\",\n",
    "    \"How do I calculate my GPA?\",\n",
    "    \"Do you think social media has a positive or negative impact on society?\",\n",
    "    \"What is the best way to start a business?\",\n",
    "    \"Can you explain what you mean by 'critical thinking'?\",\n",
    "    \"How do I set up a personal budget?\",\n",
    "    \"Which is better, working remotely or in an office?\",\n",
    "    \"How can I improve my writing skills?\",\n",
    "    \"Do you think humans will colonize Mars in the future?\",\n",
    "    \"How do I back up my computer files?\",\n",
    "    \"Which is better for health, running or swimming?\",\n",
    "    \"What’s the best way to learn coding?\",\n",
    "    \"Do you think AI will replace most jobs?\",\n",
    "    \"How do I balance my personal and professional life?\",\n",
    "    \"Can you explain what empathy is?\",\n",
    "    \"How can I improve my memory?\",\n",
    "    \"Which is better, iOS or Android?\",\n",
    "    \"What are the best tips for staying motivated?\",\n",
    "    \"Do you think renewable energy will replace fossil fuels?\",\n",
    "    \"How do I set up a personal website?\",\n",
    "    \"What is the best way to prepare for a public speech?\",\n",
    "    \"Which is more efficient, solar energy or wind energy?\",\n",
    "    \"How can I improve my focus during study sessions?\",\n",
    "    \"Do you think the internet has made people more isolated?\",\n",
    "    \"How can I manage my time better?\",\n",
    "    \"Which do you prefer, early mornings or late nights?\",\n",
    "    \"How do I get rid of distractions while working?\",\n",
    "    \"What’s the best way to stay healthy during the winter?\",\n",
    "    \"How do I learn how to meditate?\",\n",
    "    \"Which is better, studying with a group or alone?\",\n",
    "    \"How do I improve my networking skills?\",\n",
    "    \"What do you think is the most important skill to learn in life?\",\n",
    "    \"How do I start a blog?\",\n",
    "    \"Do you prefer reading physical books or e-books?\",\n",
    "    \"What’s the best way to handle failure?\",\n",
    "    \"Can you explain how to write a good cover letter?\",\n",
    "    \"How do I ask for a raise at work?\",\n",
    "    \"Which do you think is more valuable, creativity or logic?\",\n",
    "    \"How do I deal with stress at work?\",\n",
    "    \"Which is more effective, studying in the morning or at night?\",\n",
    "    \"How do I create a portfolio for job applications?\",\n",
    "    \"What do you think is the biggest challenge in today’s world?\",\n",
    "    \"How do I make friends in a new city?\",\n",
    "    \"Do you think everyone should learn how to code?\",\n",
    "    \"How do I stay calm during a stressful situation?\",\n",
    "    \"Which do you prefer, working for a large company or a startup?\",\n",
    "    \"How do I improve my leadership skills?\",\n",
    "    \"Can you explain how to negotiate a salary?\",\n",
    "    \"What’s the best way to prepare for a difficult exam?\",\n",
    "    \"Which is better, learning by doing or learning by reading?\",\n",
    "    \"How do I reduce anxiety before a big presentation?\",\n",
    "    \"Do you prefer written exams or oral exams?\",\n",
    "    \"What’s the best way to practice mindfulness?\",\n",
    "    \"How do I build a professional network?\",\n",
    "    \"Which is better for learning, textbooks or online resources?\",\n",
    "    \"How do I set achievable goals?\",\n",
    "    \"Do you think robots will have emotions in the future?\",\n",
    "    \"How can I improve my critical thinking skills?\",\n",
    "    \"Which do you prefer, studying at home or at the library?\",\n",
    "    \"How do I stay productive while working from home?\",\n",
    "    \"What’s the best way to improve my creativity?\",\n",
    "    \"Do you think humans will achieve interstellar travel?\",\n",
    "    \"How do I write a strong personal statement for college?\",\n",
    "    \"Which is better for the environment, cycling or walking?\",\n",
    "    \"How can I make my presentations more engaging?\",\n",
    "    \"What’s the best way to learn a musical instrument?\",\n",
    "    \"Do you think it's important to study philosophy?\",\n",
    "    \"How do I stay motivated during a long-term project?\",\n",
    "    \"Which is better for learning, flashcards or quizzes?\",\n",
    "    \"How do I overcome procrastination?\",\n",
    "    \"Do you think people should follow their passion or focus on stability?\",\n",
    "    \"How do I practice active listening?\",\n",
    "    \"Which is more important, emotional intelligence or IQ?\",\n",
    "    \"How do I start saving for retirement?\",\n",
    "    \"Do you prefer working on multiple projects at once or one at a time?\",\n",
    "    \"What’s the best way to handle constructive criticism?\"\n",
    "]\n"
   ],
   "metadata": {
    "collapsed": false,
    "ExecuteTime": {
     "end_time": "2024-09-29T13:38:41.950380Z",
     "start_time": "2024-09-29T13:38:41.946646Z"
    }
   }
  },
  {
   "cell_type": "code",
   "execution_count": 25,
   "outputs": [],
   "source": [
    "import random\n",
    "questions = factual_questions + conceptual_questions + other_questions\n",
    "labels = ['factual'] * len(factual_questions) + ['conceptual'] * len(conceptual_questions) + [\"other\"] * len(other_questions)\n",
    "combined_data = list(zip(questions, labels))\n",
    "random.shuffle(combined_data)\n",
    "questions, labels = zip(*combined_data)"
   ],
   "metadata": {
    "collapsed": false,
    "ExecuteTime": {
     "end_time": "2024-09-29T13:39:58.029825Z",
     "start_time": "2024-09-29T13:39:58.026109Z"
    }
   }
  },
  {
   "cell_type": "code",
   "execution_count": 27,
   "outputs": [
    {
     "data": {
      "text/plain": "287"
     },
     "execution_count": 27,
     "metadata": {},
     "output_type": "execute_result"
    }
   ],
   "source": [
    "from nlp import preprocess_input\n",
    "preprocessed_questions = [preprocess_input(q) for q in questions]\n",
    "len(preprocessed_questions)\n"
   ],
   "metadata": {
    "collapsed": false,
    "ExecuteTime": {
     "end_time": "2024-09-29T13:40:09.225058Z",
     "start_time": "2024-09-29T13:40:08.281741Z"
    }
   }
  },
  {
   "cell_type": "code",
   "execution_count": 28,
   "outputs": [
    {
     "name": "stdout",
     "output_type": "stream",
     "text": [
      "Classification Report:\n",
      "               precision    recall  f1-score   support\n",
      "\n",
      "  conceptual       0.83      1.00      0.91        20\n",
      "     factual       1.00      0.89      0.94        18\n",
      "       other       1.00      0.90      0.95        20\n",
      "\n",
      "    accuracy                           0.93        58\n",
      "   macro avg       0.94      0.93      0.93        58\n",
      "weighted avg       0.94      0.93      0.93        58\n",
      "\n"
     ]
    }
   ],
   "source": [
    "from sklearn.feature_extraction.text import TfidfVectorizer\n",
    "from sklearn.model_selection import train_test_split\n",
    "from sklearn.svm import SVC\n",
    "from sklearn.metrics import classification_report\n",
    "\n",
    "vectorizer = TfidfVectorizer()\n",
    "X = vectorizer.fit_transform(preprocessed_questions)\n",
    "\n",
    "X_train, X_test, y_train, y_test = train_test_split(X, labels, test_size=0.2, random_state=42)\n",
    "\n",
    "svm_model = SVC(kernel='linear')  # Using a linear kernel for simplicity\n",
    "svm_model.fit(X_train, y_train)\n",
    "\n",
    "y_pred = svm_model.predict(X_test)\n",
    "\n",
    "# Evaluate the model's performance\n",
    "print(\"Classification Report:\\n\", classification_report(y_test, y_pred))"
   ],
   "metadata": {
    "collapsed": false,
    "ExecuteTime": {
     "end_time": "2024-09-29T13:40:14.685911Z",
     "start_time": "2024-09-29T13:40:14.669531Z"
    }
   }
  },
  {
   "cell_type": "code",
   "execution_count": 30,
   "outputs": [
    {
     "name": "stdout",
     "output_type": "stream",
     "text": [
      "Predicted Category for 'what should I do right after i wake up?': other\n"
     ]
    }
   ],
   "source": [
    "from nlp import preprocess_input\n",
    "def classify_question(question):\n",
    "    preprocessed_question = preprocess_input(question)\n",
    "    vectorized_question = vectorizer.transform([preprocessed_question])  # Vectorize the input\n",
    "    predicted_category = svm_model.predict(vectorized_question)[0]\n",
    "    return predicted_category\n",
    "\n",
    "# Test the classifier with a new question\n",
    "new_question = \"what should I do right after i wake up?\"\n",
    "predicted_category = classify_question(new_question)\n",
    "print(f\"Predicted Category for '{new_question}': {predicted_category}\")"
   ],
   "metadata": {
    "collapsed": false,
    "ExecuteTime": {
     "end_time": "2024-09-29T13:40:41.794924Z",
     "start_time": "2024-09-29T13:40:41.787991Z"
    }
   }
  },
  {
   "cell_type": "code",
   "execution_count": 31,
   "outputs": [
    {
     "data": {
      "text/plain": "['tfidf_vectorizer.pkl']"
     },
     "execution_count": 31,
     "metadata": {},
     "output_type": "execute_result"
    }
   ],
   "source": [
    "import joblib\n",
    "\n",
    "# Save the trained SVM model\n",
    "joblib.dump(svm_model, 'svm_model.pkl')\n",
    "\n",
    "# Save the TF-IDF vectorizer\n",
    "joblib.dump(vectorizer, 'tfidf_vectorizer.pkl')"
   ],
   "metadata": {
    "collapsed": false,
    "ExecuteTime": {
     "end_time": "2024-09-29T13:41:14.006472Z",
     "start_time": "2024-09-29T13:41:13.991239Z"
    }
   }
  },
  {
   "cell_type": "code",
   "execution_count": null,
   "outputs": [],
   "source": [],
   "metadata": {
    "collapsed": false
   }
  }
 ],
 "metadata": {
  "kernelspec": {
   "display_name": "Python 3",
   "language": "python",
   "name": "python3"
  },
  "language_info": {
   "codemirror_mode": {
    "name": "ipython",
    "version": 2
   },
   "file_extension": ".py",
   "mimetype": "text/x-python",
   "name": "python",
   "nbconvert_exporter": "python",
   "pygments_lexer": "ipython2",
   "version": "2.7.6"
  }
 },
 "nbformat": 4,
 "nbformat_minor": 0
}
